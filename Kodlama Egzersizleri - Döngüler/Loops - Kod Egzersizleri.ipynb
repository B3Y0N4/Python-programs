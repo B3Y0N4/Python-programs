{
 "cells": [
  {
   "cell_type": "raw",
   "metadata": {},
   "source": [
    "a = 0\n",
    "\n",
    "while a < 100:\n",
    "    a += 1\n",
    "    if a % 2 == 0:\n",
    "        print(a)"
   ]
  },
  {
   "cell_type": "code",
   "execution_count": null,
   "metadata": {},
   "outputs": [],
   "source": []
  },
  {
   "cell_type": "code",
   "execution_count": null,
   "metadata": {},
   "outputs": [],
   "source": []
  },
  {
   "cell_type": "raw",
   "metadata": {},
   "source": [
    "tr_harfler = \"şçöğüİı\"\n",
    "\n",
    "parola = input(\"Parolanız: \")\n",
    "\n",
    "for karakter in parola:\n",
    "    if karakter in tr_harfler:\n",
    "        print(\"parolada Türkçe karakter kullanılamaz\")"
   ]
  },
  {
   "cell_type": "code",
   "execution_count": null,
   "metadata": {},
   "outputs": [],
   "source": []
  },
  {
   "cell_type": "code",
   "execution_count": null,
   "metadata": {},
   "outputs": [],
   "source": []
  },
  {
   "cell_type": "code",
   "execution_count": null,
   "metadata": {},
   "outputs": [],
   "source": []
  },
  {
   "cell_type": "code",
   "execution_count": null,
   "metadata": {},
   "outputs": [],
   "source": []
  },
  {
   "cell_type": "code",
   "execution_count": null,
   "metadata": {},
   "outputs": [],
   "source": []
  },
  {
   "cell_type": "raw",
   "metadata": {},
   "source": [
    "izinli_karakterler = \"0123456789+-/*= \"\n",
    "\n",
    "print(\"\"\"\n",
    "Basit bir hesap makinesi uygulaması.\n",
    "\n",
    "İşleçler:\n",
    "\n",
    "    +   toplama\n",
    "    -   çıkarma\n",
    "    *   çarpma\n",
    "    /   bölme\n",
    "\n",
    "Yapmak istediğiniz işlemi yazıp ENTER\n",
    "tuşuna basın. (Örneğin 23 ve 46 sayılarını\n",
    "çarpmak için 23 * 46 yazdıktan sonra\n",
    "ENTER tuşuna basın.)\n",
    "\"\"\")\n",
    "\n",
    "while True:\n",
    "    veri = input(\"İşleminiz: \")\n",
    "    if veri == \"q\":\n",
    "        print(\"çıkılıyor...\")\n",
    "        break\n",
    "\n",
    "    for s in veri:\n",
    "        if s not in izinli_karakterler:\n",
    "            print(\"Neyin peşindesin?!\")\n",
    "            quit()\n",
    "\n",
    "    hesap = eval(veri)\n",
    "\n",
    "    print(hesap)"
   ]
  },
  {
   "cell_type": "code",
   "execution_count": null,
   "metadata": {},
   "outputs": [],
   "source": []
  },
  {
   "cell_type": "code",
   "execution_count": null,
   "metadata": {},
   "outputs": [],
   "source": []
  },
  {
   "cell_type": "code",
   "execution_count": null,
   "metadata": {},
   "outputs": [],
   "source": []
  },
  {
   "cell_type": "code",
   "execution_count": null,
   "metadata": {},
   "outputs": [],
   "source": []
  },
  {
   "cell_type": "raw",
   "metadata": {},
   "source": [
    "while True:\n",
    "    parola = input(\"parola belirleyin: \")\n",
    "\n",
    "    if not parola:\n",
    "        print(\"parola bölümü boş geçilemez!\")\n",
    "\n",
    "    elif len(parola) in range(3, 8): #eğer parolanın uzunluğu 3 ile 8 karakter\n",
    "        #aralığında ise...\n",
    "        print(\"Yeni parolanız\", parola)\n",
    "        break\n",
    "\n",
    "    else:\n",
    "        print(\"parola 8 karakterden uzun 3 karakterden kısa olmamalı\")"
   ]
  },
  {
   "cell_type": "code",
   "execution_count": null,
   "metadata": {},
   "outputs": [],
   "source": []
  },
  {
   "cell_type": "code",
   "execution_count": null,
   "metadata": {},
   "outputs": [],
   "source": []
  },
  {
   "cell_type": "raw",
   "metadata": {},
   "source": [
    "for i in range(3):\n",
    "    parola = input(\"parola belirleyin: \")\n",
    "    if not parola:\n",
    "        print(\"parola bölümü boş geçilemez!\")\n",
    "\n",
    "    elif len(parola) in range(3, 8):\n",
    "        print(\"Yeni parolanız\", parola)\n",
    "        break\n",
    "\n",
    "    elif i == 2:\n",
    "        print(\"parolayı 3 kez yanlış girdiniz.\",\n",
    "        \"Lütfen 30 dakika sonra tekrar deneyin!\")\n",
    "\n",
    "    else:\n",
    "        print(\"parola 8 karakterden uzun 3 karakterden kısa olmamalı\")"
   ]
  },
  {
   "cell_type": "code",
   "execution_count": null,
   "metadata": {},
   "outputs": [],
   "source": []
  },
  {
   "cell_type": "code",
   "execution_count": null,
   "metadata": {},
   "outputs": [],
   "source": []
  },
  {
   "cell_type": "code",
   "execution_count": null,
   "metadata": {},
   "outputs": [],
   "source": []
  },
  {
   "cell_type": "code",
   "execution_count": null,
   "metadata": {},
   "outputs": [],
   "source": []
  }
 ],
 "metadata": {
  "kernelspec": {
   "display_name": "Python 3",
   "language": "python",
   "name": "python3"
  },
  "language_info": {
   "codemirror_mode": {
    "name": "ipython",
    "version": 3
   },
   "file_extension": ".py",
   "mimetype": "text/x-python",
   "name": "python",
   "nbconvert_exporter": "python",
   "pygments_lexer": "ipython3",
   "version": "3.8.3"
  }
 },
 "nbformat": 4,
 "nbformat_minor": 4
}
