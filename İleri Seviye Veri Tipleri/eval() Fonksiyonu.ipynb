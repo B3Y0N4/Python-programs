{
 "cells": [
  {
   "cell_type": "markdown",
   "metadata": {},
   "source": [
    "# eval() Fonksiyonu"
   ]
  },
  {
   "cell_type": "code",
   "execution_count": 12,
   "metadata": {},
   "outputs": [
    {
     "name": "stdout",
     "output_type": "stream",
     "text": [
      "\n",
      "Hesap Makinesi\n",
      "\n",
      "İşleçler\n",
      "\n",
      "Toplama =+\n",
      "Çıkarma = -\n",
      "Çarpma = *\n",
      "Bölme =/\n",
      "\n",
      "Yapmak istediğiniz işlemi şu şekilde girin: 43*12\n",
      "43*12\n"
     ]
    },
    {
     "data": {
      "text/plain": [
       "516"
      ]
     },
     "execution_count": 12,
     "metadata": {},
     "output_type": "execute_result"
    }
   ],
   "source": [
    "hesaplama = input(\"\"\"\n",
    "Hesap Makinesi\n",
    "\n",
    "İşleçler\n",
    "\n",
    "Toplama =+\n",
    "Çıkarma = -\n",
    "Çarpma = *\n",
    "Bölme =/\n",
    "\n",
    "Yapmak istediğiniz işlemi şu şekilde girin: 43*12\n",
    "\"\"\")\n",
    "\n",
    "eval(hesaplama)"
   ]
  },
  {
   "cell_type": "code",
   "execution_count": 13,
   "metadata": {},
   "outputs": [
    {
     "data": {
      "text/plain": [
       "516"
      ]
     },
     "execution_count": 13,
     "metadata": {},
     "output_type": "execute_result"
    }
   ],
   "source": [
    "43*12"
   ]
  },
  {
   "cell_type": "code",
   "execution_count": 14,
   "metadata": {},
   "outputs": [
    {
     "name": "stdout",
     "output_type": "stream",
     "text": [
      "\n",
      "Hesap Makinesi\n",
      "\n",
      "İşleçler\n",
      "\n",
      "Toplama =+\n",
      "Çıkarma = -\n",
      "Çarpma = *\n",
      "Bölme =/\n",
      "\n",
      "Yapmak istediğiniz işlemi şu şekilde girin: 43*12\n",
      "type(hesaplama)\n"
     ]
    },
    {
     "data": {
      "text/plain": [
       "str"
      ]
     },
     "execution_count": 14,
     "metadata": {},
     "output_type": "execute_result"
    }
   ],
   "source": [
    "hesaplama = input(\"\"\"\n",
    "Hesap Makinesi\n",
    "\n",
    "İşleçler\n",
    "\n",
    "Toplama =+\n",
    "Çıkarma = -\n",
    "Çarpma = *\n",
    "Bölme =/\n",
    "\n",
    "Yapmak istediğiniz işlemi şu şekilde girin: 43*12\n",
    "\"\"\")\n",
    "\n",
    "eval(hesaplama)"
   ]
  },
  {
   "cell_type": "raw",
   "metadata": {},
   "source": [
    "Veri\n",
    "Uygunluk Kontrolü\n",
    "eval()"
   ]
  },
  {
   "cell_type": "raw",
   "metadata": {},
   "source": [
    "Veri\n",
    "eval()"
   ]
  },
  {
   "cell_type": "code",
   "execution_count": null,
   "metadata": {},
   "outputs": [],
   "source": []
  },
  {
   "cell_type": "code",
   "execution_count": null,
   "metadata": {},
   "outputs": [],
   "source": []
  }
 ],
 "metadata": {
  "kernelspec": {
   "display_name": "Python 3",
   "language": "python",
   "name": "python3"
  },
  "language_info": {
   "codemirror_mode": {
    "name": "ipython",
    "version": 3
   },
   "file_extension": ".py",
   "mimetype": "text/x-python",
   "name": "python",
   "nbconvert_exporter": "python",
   "pygments_lexer": "ipython3",
   "version": "3.8.3"
  }
 },
 "nbformat": 4,
 "nbformat_minor": 4
}
