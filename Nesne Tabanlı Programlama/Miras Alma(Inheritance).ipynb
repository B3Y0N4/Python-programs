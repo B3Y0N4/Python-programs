{
 "cells": [
  {
   "cell_type": "markdown",
   "metadata": {},
   "source": [
    "# Miras Alma(Inheritance)"
   ]
  },
  {
   "cell_type": "raw",
   "metadata": {},
   "source": [
    "Super Class-Sub Class (Üst Class-Alt Class)"
   ]
  },
  {
   "cell_type": "code",
   "execution_count": 13,
   "metadata": {},
   "outputs": [],
   "source": [
    "class asker():\n",
    "    def __init__(self,isim,power):\n",
    "        self.isim = isim\n",
    "        self.power = power\n",
    "        \n",
    "    def power_eksilt(self):\n",
    "        self.power -= 10\n",
    "    def bilgileri_goster(self):\n",
    "        print(\"\"\"\n",
    "        İsim: {}\n",
    "        Power: {}\"\"\".format(self.isim,self.power))"
   ]
  },
  {
   "cell_type": "code",
   "execution_count": 14,
   "metadata": {},
   "outputs": [],
   "source": [
    "class insaatci():\n",
    "    def __init__(self,isim,power):\n",
    "        self.isim = isim\n",
    "        self.power = power\n",
    "    def power_eksilt(self):\n",
    "        self.power -= 10\n",
    "    def bilgileri_goster(self):\n",
    "        print(\"\"\"\n",
    "        İsim: {}\n",
    "        Power: {}\"\"\".format(self.isim,self.power))"
   ]
  },
  {
   "cell_type": "code",
   "execution_count": 15,
   "metadata": {},
   "outputs": [],
   "source": [
    "class tuccar():\n",
    "    def __init__(self,isim,power):\n",
    "        self.isim = isim\n",
    "        self.power = power\n",
    "    def power_eksilt(self):\n",
    "        self.power -= 10\n",
    "    def bilgileri_goster(self):\n",
    "        print(\"\"\"\n",
    "        İsim: {}\n",
    "        Power: {}\"\"\".format(self.isim,self.power))"
   ]
  },
  {
   "cell_type": "code",
   "execution_count": 16,
   "metadata": {},
   "outputs": [],
   "source": [
    "class kral():\n",
    "    def __init__(self,isim,power):\n",
    "        self.isim = isim\n",
    "        self.power = power\n",
    "    def power_eksilt(self):\n",
    "        self.power -= 10\n",
    "    def bilgileri_goster(self):\n",
    "        print(\"\"\"\n",
    "        İsim: {}\n",
    "        Power: {}\"\"\".format(self.isim,self.power))"
   ]
  },
  {
   "cell_type": "code",
   "execution_count": 17,
   "metadata": {},
   "outputs": [],
   "source": [
    "kral = kral(\"Sezar\", 100)"
   ]
  },
  {
   "cell_type": "code",
   "execution_count": 18,
   "metadata": {},
   "outputs": [
    {
     "name": "stdout",
     "output_type": "stream",
     "text": [
      "\n",
      "        İsim: Sezar\n",
      "        Power: 100\n"
     ]
    }
   ],
   "source": [
    "kral.bilgileri_goster()"
   ]
  },
  {
   "cell_type": "code",
   "execution_count": 37,
   "metadata": {},
   "outputs": [],
   "source": [
    "class oyun_karakteri():\n",
    "    def __init__(self,isim,power):\n",
    "        print(\"Oyun Karakteri init Metodu\")\n",
    "        self.isim = isim\n",
    "        self.power = power\n",
    "    def power_eksilt(self):\n",
    "        self.power -= 10\n",
    "    def bilgileri_goster(self):\n",
    "        print(\"\"\"\n",
    "        İsim: {}\n",
    "        Power: {}\"\"\".format(self.isim,self.power))"
   ]
  },
  {
   "cell_type": "code",
   "execution_count": 38,
   "metadata": {},
   "outputs": [],
   "source": [
    "class kral(oyun_karakteri):\n",
    "    pass"
   ]
  },
  {
   "cell_type": "code",
   "execution_count": 39,
   "metadata": {},
   "outputs": [
    {
     "name": "stdout",
     "output_type": "stream",
     "text": [
      "Oyun Karakteri init Metodu\n"
     ]
    }
   ],
   "source": [
    "kral = kral(\"Sezar\",100)"
   ]
  },
  {
   "cell_type": "code",
   "execution_count": 40,
   "metadata": {},
   "outputs": [],
   "source": [
    "kral.power_eksilt()"
   ]
  },
  {
   "cell_type": "code",
   "execution_count": 41,
   "metadata": {},
   "outputs": [
    {
     "name": "stdout",
     "output_type": "stream",
     "text": [
      "\n",
      "        İsim: Sezar\n",
      "        Power: 90\n"
     ]
    }
   ],
   "source": [
    "kral.bilgileri_goster()"
   ]
  },
  {
   "cell_type": "code",
   "execution_count": null,
   "metadata": {},
   "outputs": [],
   "source": []
  },
  {
   "cell_type": "code",
   "execution_count": null,
   "metadata": {},
   "outputs": [],
   "source": []
  },
  {
   "cell_type": "code",
   "execution_count": 27,
   "metadata": {},
   "outputs": [
    {
     "name": "stdout",
     "output_type": "stream",
     "text": [
      "\n",
      "        İsim: Sezar\n",
      "        Power: 100\n"
     ]
    }
   ],
   "source": [
    "kral.bilgileri_goster()"
   ]
  },
  {
   "cell_type": "code",
   "execution_count": 35,
   "metadata": {},
   "outputs": [],
   "source": [
    "class kral(oyun_karakteri):\n",
    "    def __init__(self,isim,power,asker_sayisi):\n",
    "        print(\"Kral init Metodu\")\n",
    "        self.isim = isim\n",
    "        self.power = power\n",
    "        self.asker_sayisi = asker_sayisi\n",
    "        "
   ]
  },
  {
   "cell_type": "code",
   "execution_count": 36,
   "metadata": {},
   "outputs": [
    {
     "name": "stdout",
     "output_type": "stream",
     "text": [
      "Kral init Metodu\n"
     ]
    }
   ],
   "source": [
    "kral1 = kral(\"Sezar\",100,50000)"
   ]
  },
  {
   "cell_type": "code",
   "execution_count": null,
   "metadata": {},
   "outputs": [],
   "source": []
  },
  {
   "cell_type": "code",
   "execution_count": null,
   "metadata": {},
   "outputs": [],
   "source": []
  },
  {
   "cell_type": "code",
   "execution_count": null,
   "metadata": {},
   "outputs": [],
   "source": []
  },
  {
   "cell_type": "code",
   "execution_count": null,
   "metadata": {},
   "outputs": [],
   "source": []
  },
  {
   "cell_type": "code",
   "execution_count": null,
   "metadata": {},
   "outputs": [],
   "source": []
  },
  {
   "cell_type": "markdown",
   "metadata": {},
   "source": [
    "# Overriding"
   ]
  },
  {
   "cell_type": "code",
   "execution_count": null,
   "metadata": {},
   "outputs": [],
   "source": []
  },
  {
   "cell_type": "code",
   "execution_count": null,
   "metadata": {},
   "outputs": [],
   "source": []
  },
  {
   "cell_type": "code",
   "execution_count": null,
   "metadata": {},
   "outputs": [],
   "source": []
  },
  {
   "cell_type": "code",
   "execution_count": null,
   "metadata": {},
   "outputs": [],
   "source": []
  },
  {
   "cell_type": "code",
   "execution_count": null,
   "metadata": {},
   "outputs": [],
   "source": []
  },
  {
   "cell_type": "code",
   "execution_count": null,
   "metadata": {},
   "outputs": [],
   "source": []
  },
  {
   "cell_type": "code",
   "execution_count": null,
   "metadata": {},
   "outputs": [],
   "source": []
  },
  {
   "cell_type": "code",
   "execution_count": null,
   "metadata": {},
   "outputs": [],
   "source": []
  },
  {
   "cell_type": "code",
   "execution_count": null,
   "metadata": {},
   "outputs": [],
   "source": []
  },
  {
   "cell_type": "code",
   "execution_count": null,
   "metadata": {},
   "outputs": [],
   "source": []
  },
  {
   "cell_type": "code",
   "execution_count": null,
   "metadata": {},
   "outputs": [],
   "source": []
  },
  {
   "cell_type": "code",
   "execution_count": null,
   "metadata": {},
   "outputs": [],
   "source": []
  },
  {
   "cell_type": "code",
   "execution_count": null,
   "metadata": {},
   "outputs": [],
   "source": []
  },
  {
   "cell_type": "markdown",
   "metadata": {},
   "source": [
    "# super() Anahtar Kelimesi"
   ]
  },
  {
   "cell_type": "code",
   "execution_count": 42,
   "metadata": {},
   "outputs": [],
   "source": [
    "class kral(oyun_karakteri):\n",
    "    def __init__(self,isim,power,ordu_sayisi):\n",
    "        super().__init__(isim,power)\n",
    "        \n",
    "        print(\"Kral init Metodu\")\n",
    "        self.ordu_sayisi = ordu_sayisi"
   ]
  },
  {
   "cell_type": "code",
   "execution_count": 43,
   "metadata": {},
   "outputs": [
    {
     "name": "stdout",
     "output_type": "stream",
     "text": [
      "Oyun Karakteri init Metodu\n",
      "Kral init Metodu\n"
     ]
    }
   ],
   "source": [
    "kral = kral(\"Sezar\",100,50000)"
   ]
  },
  {
   "cell_type": "code",
   "execution_count": 46,
   "metadata": {},
   "outputs": [],
   "source": [
    "class insaatci(oyun_karakteri):\n",
    "    def __init__(self,isim,power,isci_sayisi):\n",
    "        super().__init__(isim,power)\n",
    "        \n",
    "        print(\"İnşaat Class init Metodu\")\n",
    "        self.isci_sayisi = isci_sayisi"
   ]
  },
  {
   "cell_type": "code",
   "execution_count": 47,
   "metadata": {},
   "outputs": [
    {
     "name": "stdout",
     "output_type": "stream",
     "text": [
      "Oyun Karakteri init Metodu\n",
      "İnşaat Class init Metodu\n"
     ]
    }
   ],
   "source": [
    "insaatci1 = insaatci(\"Mehmet\", 100, 1150)"
   ]
  },
  {
   "cell_type": "code",
   "execution_count": null,
   "metadata": {},
   "outputs": [],
   "source": []
  },
  {
   "cell_type": "code",
   "execution_count": null,
   "metadata": {},
   "outputs": [],
   "source": []
  },
  {
   "cell_type": "code",
   "execution_count": null,
   "metadata": {},
   "outputs": [],
   "source": []
  },
  {
   "cell_type": "code",
   "execution_count": null,
   "metadata": {},
   "outputs": [],
   "source": []
  },
  {
   "cell_type": "code",
   "execution_count": null,
   "metadata": {},
   "outputs": [],
   "source": []
  },
  {
   "cell_type": "code",
   "execution_count": null,
   "metadata": {},
   "outputs": [],
   "source": []
  },
  {
   "cell_type": "code",
   "execution_count": null,
   "metadata": {},
   "outputs": [],
   "source": []
  }
 ],
 "metadata": {
  "kernelspec": {
   "display_name": "Python 3",
   "language": "python",
   "name": "python3"
  },
  "language_info": {
   "codemirror_mode": {
    "name": "ipython",
    "version": 3
   },
   "file_extension": ".py",
   "mimetype": "text/x-python",
   "name": "python",
   "nbconvert_exporter": "python",
   "pygments_lexer": "ipython3",
   "version": "3.8.3"
  }
 },
 "nbformat": 4,
 "nbformat_minor": 4
}
