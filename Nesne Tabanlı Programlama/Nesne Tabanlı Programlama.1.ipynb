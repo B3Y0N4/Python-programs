{
 "cells": [
  {
   "cell_type": "markdown",
   "metadata": {},
   "source": [
    "# Nesne Tabanlı Programlama - OOP(Object Oriented Programming)"
   ]
  },
  {
   "cell_type": "markdown",
   "metadata": {},
   "source": [
    "# Bir Kez Yazılan Kodların En Verimli Şekilde Tekrar Tekrar Kullanılabilmesi"
   ]
  },
  {
   "cell_type": "raw",
   "metadata": {},
   "source": [
    "Değişkenler, Fonksiyonlar, Modüller Örneği"
   ]
  },
  {
   "cell_type": "code",
   "execution_count": 5,
   "metadata": {},
   "outputs": [],
   "source": [
    "isim = \"Bilal artık Python dilini biliyor.\""
   ]
  },
  {
   "cell_type": "code",
   "execution_count": null,
   "metadata": {},
   "outputs": [],
   "source": []
  },
  {
   "cell_type": "code",
   "execution_count": null,
   "metadata": {},
   "outputs": [],
   "source": []
  },
  {
   "cell_type": "code",
   "execution_count": null,
   "metadata": {},
   "outputs": [],
   "source": []
  },
  {
   "cell_type": "code",
   "execution_count": null,
   "metadata": {},
   "outputs": [],
   "source": []
  },
  {
   "cell_type": "raw",
   "metadata": {},
   "source": [
    "İyi bir programcı olabilmek için Nesne Tabanlı Programlamayı öğrenmeniz gerekir. OOP aslında bir kod yazma yöntemidir. Python sizi hiç bir zaman OOp kullanmaya zorlamaz fakat ileride başkalarının yazdıkları kodları okurken bu kodların büyük bir bölümünün OOP mantığıyla yazıldığını göreceksiniz. Eğer OOP mantığını anlamazsanız bu kodları anlamak sizin için çok zor olacaktır. Fakar şunu da belirtmek gerekiyor: OOP kullanmadan da iyi ve işey yarar programlar yazabilirsiniz. Fakat en azından başkalarının yazdıkları kodları anlamak için OOP konusunu öğrenmeniz çok önemlidir."
   ]
  },
  {
   "cell_type": "markdown",
   "metadata": {},
   "source": [
    "# Class(Sınıf) ve Obje Kavramları"
   ]
  },
  {
   "cell_type": "code",
   "execution_count": 6,
   "metadata": {},
   "outputs": [],
   "source": [
    "liste = [1,2,3,4,5]"
   ]
  },
  {
   "cell_type": "code",
   "execution_count": 7,
   "metadata": {},
   "outputs": [],
   "source": [
    "sozluk = {\"Bir\":1,\"İki\":2,\"Üç\":3}"
   ]
  },
  {
   "cell_type": "code",
   "execution_count": 8,
   "metadata": {},
   "outputs": [],
   "source": [
    "x = 10"
   ]
  },
  {
   "cell_type": "code",
   "execution_count": 9,
   "metadata": {},
   "outputs": [],
   "source": [
    "def toplama(a,b):\n",
    "    print(a+b)"
   ]
  },
  {
   "cell_type": "code",
   "execution_count": 10,
   "metadata": {},
   "outputs": [],
   "source": [
    "liste.append(6)"
   ]
  },
  {
   "cell_type": "code",
   "execution_count": 11,
   "metadata": {},
   "outputs": [
    {
     "data": {
      "text/plain": [
       "[1, 2, 3, 4, 5, 6]"
      ]
     },
     "execution_count": 11,
     "metadata": {},
     "output_type": "execute_result"
    }
   ],
   "source": [
    "liste"
   ]
  },
  {
   "cell_type": "code",
   "execution_count": null,
   "metadata": {},
   "outputs": [],
   "source": [
    "sozluk."
   ]
  },
  {
   "cell_type": "code",
   "execution_count": null,
   "metadata": {},
   "outputs": [],
   "source": [
    "x"
   ]
  },
  {
   "cell_type": "code",
   "execution_count": null,
   "metadata": {},
   "outputs": [],
   "source": [
    "liste."
   ]
  },
  {
   "cell_type": "code",
   "execution_count": 12,
   "metadata": {},
   "outputs": [],
   "source": [
    "def carpma(a,b):\n",
    "    print(a*b)"
   ]
  },
  {
   "cell_type": "code",
   "execution_count": 30,
   "metadata": {},
   "outputs": [],
   "source": [
    "class calisan():\n",
    "    isim = \"Bilal\"\n",
    "    departman = \"Yazılımcı\"\n",
    "    unvan = \"Uzman\"\n",
    "    maas = 7000\n",
    "    \n",
    "    def bilgileri_goster(self):\n",
    "        print(\"\"\"\n",
    "        İsim = {}\n",
    "        \n",
    "        Departman = {}\n",
    "        \n",
    "        Ünvan = {}\n",
    "        \n",
    "        Maaş = {}\n",
    "        \"\"\".format(self.isim,self.departman,self.unvan,self.maas))\n",
    "        \n",
    "    def gorev_degisikligi(self):\n",
    "        yeni_gorev = input(\"Yeni Görev:\")\n",
    "        self.departman = yeni_gorev\n",
    "    def isim_degisikligi(self):\n",
    "        yeni_isim = input(\"Yeni İsim:\")\n",
    "        self.isim = yeni_isim\n",
    "    def unvan_degisikligi(self):\n",
    "        yeni_unvan = input(\"Yeni Ünvan:\")\n",
    "        self.unvan = yeni_unvan\n",
    "    def maas_degisikligi(self):\n",
    "        yeni_maas =input(\"Yeni Maaş:\")\n",
    "        self.maas = yeni_maas\n",
    "        \n",
    "    "
   ]
  },
  {
   "cell_type": "code",
   "execution_count": 15,
   "metadata": {},
   "outputs": [],
   "source": [
    "liste1 = list()"
   ]
  },
  {
   "cell_type": "code",
   "execution_count": 16,
   "metadata": {},
   "outputs": [
    {
     "data": {
      "text/plain": [
       "[]"
      ]
     },
     "execution_count": 16,
     "metadata": {},
     "output_type": "execute_result"
    }
   ],
   "source": [
    "liste1"
   ]
  },
  {
   "cell_type": "code",
   "execution_count": null,
   "metadata": {},
   "outputs": [],
   "source": [
    "liste1."
   ]
  },
  {
   "cell_type": "code",
   "execution_count": null,
   "metadata": {},
   "outputs": [],
   "source": []
  },
  {
   "cell_type": "code",
   "execution_count": 14,
   "metadata": {},
   "outputs": [],
   "source": [
    "calisan1 = calisan()"
   ]
  },
  {
   "cell_type": "code",
   "execution_count": 17,
   "metadata": {},
   "outputs": [
    {
     "data": {
      "text/plain": [
       "'Yazılımcı'"
      ]
     },
     "execution_count": 17,
     "metadata": {},
     "output_type": "execute_result"
    }
   ],
   "source": [
    "calisan1.departman"
   ]
  },
  {
   "cell_type": "code",
   "execution_count": 18,
   "metadata": {},
   "outputs": [
    {
     "data": {
      "text/plain": [
       "'Bilal'"
      ]
     },
     "execution_count": 18,
     "metadata": {},
     "output_type": "execute_result"
    }
   ],
   "source": [
    "calisan1.isim"
   ]
  },
  {
   "cell_type": "code",
   "execution_count": 19,
   "metadata": {},
   "outputs": [
    {
     "data": {
      "text/plain": [
       "7000"
      ]
     },
     "execution_count": 19,
     "metadata": {},
     "output_type": "execute_result"
    }
   ],
   "source": [
    "calisan1.maas"
   ]
  },
  {
   "cell_type": "code",
   "execution_count": 21,
   "metadata": {},
   "outputs": [],
   "source": [
    "calisan1 = calisan()"
   ]
  },
  {
   "cell_type": "code",
   "execution_count": 22,
   "metadata": {},
   "outputs": [
    {
     "name": "stdout",
     "output_type": "stream",
     "text": [
      "Yeni Görev:Pazarlama\n"
     ]
    }
   ],
   "source": [
    "calisan1.gorev_degisikligi()"
   ]
  },
  {
   "cell_type": "code",
   "execution_count": 23,
   "metadata": {},
   "outputs": [
    {
     "data": {
      "text/plain": [
       "'Pazarlama'"
      ]
     },
     "execution_count": 23,
     "metadata": {},
     "output_type": "execute_result"
    }
   ],
   "source": [
    "calisan1.departman"
   ]
  },
  {
   "cell_type": "code",
   "execution_count": 26,
   "metadata": {},
   "outputs": [],
   "source": [
    "calisan2 = calisan()"
   ]
  },
  {
   "cell_type": "code",
   "execution_count": 27,
   "metadata": {},
   "outputs": [
    {
     "name": "stdout",
     "output_type": "stream",
     "text": [
      "\n",
      "        İsim = Bilal\n",
      "        \n",
      "        Departman = Yazılımcı\n",
      "        \n",
      "        Ünvna = Uzman\n",
      "        \n",
      "        Maaş = 7000\n",
      "        \n"
     ]
    }
   ],
   "source": [
    "calisan2.bilgileri_goster()"
   ]
  },
  {
   "cell_type": "code",
   "execution_count": 28,
   "metadata": {},
   "outputs": [
    {
     "name": "stdout",
     "output_type": "stream",
     "text": [
      "Yeni Görev:Pazarlama\n"
     ]
    }
   ],
   "source": [
    "calisan2.gorev_degisikligi()"
   ]
  },
  {
   "cell_type": "code",
   "execution_count": 29,
   "metadata": {},
   "outputs": [
    {
     "name": "stdout",
     "output_type": "stream",
     "text": [
      "\n",
      "        İsim = Bilal\n",
      "        \n",
      "        Departman = Pazarlama\n",
      "        \n",
      "        Ünvna = Uzman\n",
      "        \n",
      "        Maaş = 7000\n",
      "        \n"
     ]
    }
   ],
   "source": [
    "calisan2.bilgileri_goster()"
   ]
  },
  {
   "cell_type": "code",
   "execution_count": 31,
   "metadata": {},
   "outputs": [],
   "source": [
    "calisan3 = calisan()"
   ]
  },
  {
   "cell_type": "code",
   "execution_count": 32,
   "metadata": {},
   "outputs": [
    {
     "name": "stdout",
     "output_type": "stream",
     "text": [
      "\n",
      "        İsim = Bilal\n",
      "        \n",
      "        Departman = Yazılımcı\n",
      "        \n",
      "        Ünvan = Uzman\n",
      "        \n",
      "        Maaş = 7000\n",
      "        \n"
     ]
    }
   ],
   "source": [
    "calisan3.bilgileri_goster()"
   ]
  },
  {
   "cell_type": "code",
   "execution_count": 41,
   "metadata": {},
   "outputs": [],
   "source": [
    "calisan4 = calisan()"
   ]
  },
  {
   "cell_type": "code",
   "execution_count": 42,
   "metadata": {},
   "outputs": [
    {
     "name": "stdout",
     "output_type": "stream",
     "text": [
      "\n",
      "        İsim = Bilal\n",
      "        \n",
      "        Departman = Yazılımcı\n",
      "        \n",
      "        Ünvan = Uzman\n",
      "        \n",
      "        Maaş = 7000\n",
      "        \n"
     ]
    }
   ],
   "source": [
    "calisan4.bilgileri_goster()"
   ]
  },
  {
   "cell_type": "code",
   "execution_count": 43,
   "metadata": {},
   "outputs": [
    {
     "name": "stdout",
     "output_type": "stream",
     "text": [
      "Yeni Görev:İnsan Kaynakları\n"
     ]
    }
   ],
   "source": [
    "calisan4.gorev_degisikligi()"
   ]
  },
  {
   "cell_type": "code",
   "execution_count": 44,
   "metadata": {},
   "outputs": [
    {
     "name": "stdout",
     "output_type": "stream",
     "text": [
      "Yeni İsim:Yılmaz\n"
     ]
    }
   ],
   "source": [
    "calisan4.isim_degisikligi()"
   ]
  },
  {
   "cell_type": "code",
   "execution_count": 45,
   "metadata": {},
   "outputs": [
    {
     "name": "stdout",
     "output_type": "stream",
     "text": [
      "Yeni Maaş:5000\n"
     ]
    }
   ],
   "source": [
    "calisan4.maas_degisikligi()"
   ]
  },
  {
   "cell_type": "code",
   "execution_count": 46,
   "metadata": {},
   "outputs": [
    {
     "name": "stdout",
     "output_type": "stream",
     "text": [
      "Yeni Ünvan:Uzman Yardımcısı\n"
     ]
    }
   ],
   "source": [
    "calisan4.unvan_degisikligi()"
   ]
  },
  {
   "cell_type": "code",
   "execution_count": 47,
   "metadata": {},
   "outputs": [
    {
     "name": "stdout",
     "output_type": "stream",
     "text": [
      "\n",
      "        İsim = Yılmaz\n",
      "        \n",
      "        Departman = İnsan Kaynakları\n",
      "        \n",
      "        Ünvan = Uzman Yardımcısı\n",
      "        \n",
      "        Maaş = 5000\n",
      "        \n"
     ]
    }
   ],
   "source": [
    "calisan4.bilgileri_goster()"
   ]
  },
  {
   "cell_type": "code",
   "execution_count": null,
   "metadata": {},
   "outputs": [],
   "source": []
  },
  {
   "cell_type": "code",
   "execution_count": null,
   "metadata": {},
   "outputs": [],
   "source": []
  },
  {
   "cell_type": "code",
   "execution_count": null,
   "metadata": {},
   "outputs": [],
   "source": []
  },
  {
   "cell_type": "code",
   "execution_count": null,
   "metadata": {},
   "outputs": [],
   "source": []
  },
  {
   "cell_type": "code",
   "execution_count": null,
   "metadata": {},
   "outputs": [],
   "source": []
  },
  {
   "cell_type": "code",
   "execution_count": null,
   "metadata": {},
   "outputs": [],
   "source": []
  },
  {
   "cell_type": "code",
   "execution_count": null,
   "metadata": {},
   "outputs": [],
   "source": []
  },
  {
   "cell_type": "code",
   "execution_count": null,
   "metadata": {},
   "outputs": [],
   "source": []
  },
  {
   "cell_type": "code",
   "execution_count": null,
   "metadata": {},
   "outputs": [],
   "source": []
  },
  {
   "cell_type": "code",
   "execution_count": null,
   "metadata": {},
   "outputs": [],
   "source": []
  },
  {
   "cell_type": "code",
   "execution_count": null,
   "metadata": {},
   "outputs": [],
   "source": []
  },
  {
   "cell_type": "code",
   "execution_count": null,
   "metadata": {},
   "outputs": [],
   "source": []
  },
  {
   "cell_type": "code",
   "execution_count": null,
   "metadata": {},
   "outputs": [],
   "source": []
  },
  {
   "cell_type": "code",
   "execution_count": null,
   "metadata": {},
   "outputs": [],
   "source": []
  },
  {
   "cell_type": "code",
   "execution_count": null,
   "metadata": {},
   "outputs": [],
   "source": []
  },
  {
   "cell_type": "code",
   "execution_count": null,
   "metadata": {},
   "outputs": [],
   "source": []
  },
  {
   "cell_type": "markdown",
   "metadata": {},
   "source": [
    "# Constructor"
   ]
  },
  {
   "cell_type": "code",
   "execution_count": 53,
   "metadata": {},
   "outputs": [],
   "source": [
    "class calisan():\n",
    "    isim = \"Bilal\"\n",
    "    departman = \"Yazılımcı\"\n",
    "    unvan = \"Uzman\"\n",
    "    maas = 7000\n",
    "    \n",
    "    def bilgileri_goster(self):\n",
    "        print(\"\"\"\n",
    "        İsim = {}\n",
    "        \n",
    "        Departman = {}\n",
    "        \n",
    "        Ünvan = {}\n",
    "        \n",
    "        Maaş = {}\n",
    "        \"\"\".format(self.isim,self.departman,self.unvan,self.maas))\n",
    "        \n",
    "    def gorev_degisikligi(self):\n",
    "        yeni_gorev = input(\"Yeni Görev:\")\n",
    "        self.departman = yeni_gorev\n",
    "    def isim_degisikligi(self):\n",
    "        yeni_isim = input(\"Yeni İsim:\")\n",
    "        self.isim = yeni_isim\n",
    "    def unvan_degisikligi(self):\n",
    "        yeni_unvan = input(\"Yeni Ünvan:\")\n",
    "        self.unvan = yeni_unvan\n",
    "    def maas_degisikligi(self):\n",
    "        yeni_maas =input(\"Yeni Maaş:\")\n",
    "        self.maas = yeni_maas"
   ]
  },
  {
   "cell_type": "code",
   "execution_count": 54,
   "metadata": {},
   "outputs": [
    {
     "data": {
      "text/plain": [
       "['__class__',\n",
       " '__delattr__',\n",
       " '__dict__',\n",
       " '__dir__',\n",
       " '__doc__',\n",
       " '__eq__',\n",
       " '__format__',\n",
       " '__ge__',\n",
       " '__getattribute__',\n",
       " '__gt__',\n",
       " '__hash__',\n",
       " '__init__',\n",
       " '__init_subclass__',\n",
       " '__le__',\n",
       " '__lt__',\n",
       " '__module__',\n",
       " '__ne__',\n",
       " '__new__',\n",
       " '__reduce__',\n",
       " '__reduce_ex__',\n",
       " '__repr__',\n",
       " '__setattr__',\n",
       " '__sizeof__',\n",
       " '__str__',\n",
       " '__subclasshook__',\n",
       " '__weakref__',\n",
       " 'bilgileri_goster',\n",
       " 'departman',\n",
       " 'gorev_degisikligi',\n",
       " 'isim',\n",
       " 'isim_degisikligi',\n",
       " 'maas',\n",
       " 'maas_degisikligi',\n",
       " 'unvan',\n",
       " 'unvan_degisikligi']"
      ]
     },
     "execution_count": 54,
     "metadata": {},
     "output_type": "execute_result"
    }
   ],
   "source": [
    "dir(calisan)"
   ]
  },
  {
   "cell_type": "code",
   "execution_count": 55,
   "metadata": {},
   "outputs": [],
   "source": [
    "class calisan0():\n",
    "    def __init__(self,isim,departman,unvan,maas):\n",
    "        self.isim = isim\n",
    "        self.departman = departman\n",
    "        self.unvan = unvan\n",
    "        self.maas = maas\n",
    "    def bilgileri_goster(self):\n",
    "        print(\"\"\"\n",
    "        İsim = {}\n",
    "        \n",
    "        Departman = {}\n",
    "        \n",
    "        Ünvan = {}\n",
    "        \n",
    "        Maaş = {}\n",
    "        \"\"\".format(self.isim,self.departman,self.unvan,self.maas))\n",
    "        "
   ]
  },
  {
   "cell_type": "code",
   "execution_count": 57,
   "metadata": {},
   "outputs": [],
   "source": [
    "calisan0_1 = calisan0(\"Bilal\", \"Yazılım\", \"Uzman\", 7000)"
   ]
  },
  {
   "cell_type": "code",
   "execution_count": 58,
   "metadata": {},
   "outputs": [
    {
     "name": "stdout",
     "output_type": "stream",
     "text": [
      "\n",
      "        İsim = Bilal\n",
      "        \n",
      "        Departman = Yazılım\n",
      "        \n",
      "        Ünvan = Uzman\n",
      "        \n",
      "        Maaş = 7000\n",
      "        \n"
     ]
    }
   ],
   "source": [
    "calisan0_1.bilgileri_goster()"
   ]
  },
  {
   "cell_type": "code",
   "execution_count": 59,
   "metadata": {},
   "outputs": [],
   "source": [
    "calisan0_2 = calisan0(\"Yılmaz\", \"İnsan Kaynakları\", \"Uzman Yardımcısı\", 5000)"
   ]
  },
  {
   "cell_type": "code",
   "execution_count": 60,
   "metadata": {},
   "outputs": [
    {
     "name": "stdout",
     "output_type": "stream",
     "text": [
      "\n",
      "        İsim = Yılmaz\n",
      "        \n",
      "        Departman = İnsan Kaynakları\n",
      "        \n",
      "        Ünvan = Uzman Yardımcısı\n",
      "        \n",
      "        Maaş = 5000\n",
      "        \n"
     ]
    }
   ],
   "source": [
    "calisan0_2.bilgileri_goster()"
   ]
  },
  {
   "cell_type": "code",
   "execution_count": 61,
   "metadata": {},
   "outputs": [],
   "source": [
    "calisan0_3 = calisan0(\"Mehmet\", \"Pazarlama\", \"Uzman\", 6500)"
   ]
  },
  {
   "cell_type": "code",
   "execution_count": 62,
   "metadata": {},
   "outputs": [],
   "source": [
    "calisan0_4 = calisan0(\"Ahmet\", \"Grafiker\", \"Dizayner\", 4500)"
   ]
  },
  {
   "cell_type": "code",
   "execution_count": 63,
   "metadata": {},
   "outputs": [
    {
     "name": "stdout",
     "output_type": "stream",
     "text": [
      "\n",
      "        İsim = Mehmet\n",
      "        \n",
      "        Departman = Pazarlama\n",
      "        \n",
      "        Ünvan = Uzman\n",
      "        \n",
      "        Maaş = 6500\n",
      "        \n"
     ]
    }
   ],
   "source": [
    "calisan0_3.bilgileri_goster()"
   ]
  },
  {
   "cell_type": "code",
   "execution_count": 64,
   "metadata": {},
   "outputs": [
    {
     "name": "stdout",
     "output_type": "stream",
     "text": [
      "\n",
      "        İsim = Ahmet\n",
      "        \n",
      "        Departman = Grafiker\n",
      "        \n",
      "        Ünvan = Dizayner\n",
      "        \n",
      "        Maaş = 4500\n",
      "        \n"
     ]
    }
   ],
   "source": [
    "calisan0_4.bilgileri_goster()"
   ]
  },
  {
   "cell_type": "code",
   "execution_count": null,
   "metadata": {},
   "outputs": [],
   "source": []
  },
  {
   "cell_type": "code",
   "execution_count": null,
   "metadata": {},
   "outputs": [],
   "source": []
  },
  {
   "cell_type": "code",
   "execution_count": null,
   "metadata": {},
   "outputs": [],
   "source": []
  },
  {
   "cell_type": "code",
   "execution_count": null,
   "metadata": {},
   "outputs": [],
   "source": []
  },
  {
   "cell_type": "code",
   "execution_count": null,
   "metadata": {},
   "outputs": [],
   "source": []
  },
  {
   "cell_type": "code",
   "execution_count": null,
   "metadata": {},
   "outputs": [],
   "source": []
  },
  {
   "cell_type": "code",
   "execution_count": null,
   "metadata": {},
   "outputs": [],
   "source": []
  },
  {
   "cell_type": "code",
   "execution_count": null,
   "metadata": {},
   "outputs": [],
   "source": []
  },
  {
   "cell_type": "code",
   "execution_count": null,
   "metadata": {},
   "outputs": [],
   "source": []
  },
  {
   "cell_type": "code",
   "execution_count": null,
   "metadata": {},
   "outputs": [],
   "source": []
  },
  {
   "cell_type": "code",
   "execution_count": null,
   "metadata": {},
   "outputs": [],
   "source": []
  }
 ],
 "metadata": {
  "kernelspec": {
   "display_name": "Python 3",
   "language": "python",
   "name": "python3"
  },
  "language_info": {
   "codemirror_mode": {
    "name": "ipython",
    "version": 3
   },
   "file_extension": ".py",
   "mimetype": "text/x-python",
   "name": "python",
   "nbconvert_exporter": "python",
   "pygments_lexer": "ipython3",
   "version": "3.8.3"
  }
 },
 "nbformat": 4,
 "nbformat_minor": 4
}
