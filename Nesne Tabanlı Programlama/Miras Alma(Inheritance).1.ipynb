{
 "cells": [
  {
   "cell_type": "markdown",
   "metadata": {},
   "source": [
    "# Miras Alma(Inheritance)"
   ]
  },
  {
   "cell_type": "raw",
   "metadata": {},
   "source": [
    "Super Class-Sub Class(Üst Class-Alt Class)"
   ]
  },
  {
   "cell_type": "code",
   "execution_count": 3,
   "metadata": {},
   "outputs": [],
   "source": [
    "class asker():\n",
    "    def __init__(self,isim,power):\n",
    "        self.isim = isim\n",
    "        self.power = power\n",
    "    def bilgileri_goster(self):\n",
    "        print(\"\"\"\n",
    "        İsim = {}\n",
    "        \n",
    "        Power = {}\n",
    "        \"\"\".format(self.isim,self.power))"
   ]
  },
  {
   "cell_type": "code",
   "execution_count": 4,
   "metadata": {},
   "outputs": [],
   "source": [
    "asker1 = asker(\"Mehmet\", 100)"
   ]
  },
  {
   "cell_type": "code",
   "execution_count": 5,
   "metadata": {},
   "outputs": [
    {
     "name": "stdout",
     "output_type": "stream",
     "text": [
      "\n",
      "        İsim = Mehmet\n",
      "        \n",
      "        Power = 100\n",
      "        \n"
     ]
    }
   ],
   "source": [
    "asker1.bilgileri_goster()"
   ]
  },
  {
   "cell_type": "code",
   "execution_count": 6,
   "metadata": {},
   "outputs": [],
   "source": [
    "class insaatci():\n",
    "    def __init__(self,isim,power):\n",
    "        self.isim = isim\n",
    "        self.power = power\n",
    "    def bilgileri_goster(self):\n",
    "        print(\"\"\"\n",
    "        İsim = {}\n",
    "        \n",
    "        Power = {}\n",
    "        \"\"\".format(self.isim,self.power))"
   ]
  },
  {
   "cell_type": "code",
   "execution_count": 7,
   "metadata": {},
   "outputs": [],
   "source": [
    "class tuccar():\n",
    "    def __init__(self,isim,power):\n",
    "        self.isim = isim\n",
    "        self.power = power\n",
    "    def bilgileri_goster(self):\n",
    "        print(\"\"\"\n",
    "        İsim = {}\n",
    "        \n",
    "        Power = {}\n",
    "        \"\"\".format(self.isim,self.power))"
   ]
  },
  {
   "cell_type": "code",
   "execution_count": 8,
   "metadata": {},
   "outputs": [],
   "source": [
    "class kral():\n",
    "    def __init__(self,isim,power):\n",
    "        self.isim = isim\n",
    "        self.power = power\n",
    "    def bilgileri_goster(self):\n",
    "        print(\"\"\"\n",
    "        İsim = {}\n",
    "        \n",
    "        Power = {}\n",
    "        \"\"\".format(self.isim,self.power))"
   ]
  },
  {
   "cell_type": "code",
   "execution_count": 9,
   "metadata": {},
   "outputs": [],
   "source": [
    "tuccar1 = tuccar(\"Niyazi\", 100)"
   ]
  },
  {
   "cell_type": "code",
   "execution_count": 10,
   "metadata": {},
   "outputs": [
    {
     "name": "stdout",
     "output_type": "stream",
     "text": [
      "\n",
      "        İsim = Niyazi\n",
      "        \n",
      "        Power = 100\n",
      "        \n"
     ]
    }
   ],
   "source": [
    "tuccar1.bilgileri_goster()"
   ]
  },
  {
   "cell_type": "code",
   "execution_count": 28,
   "metadata": {},
   "outputs": [],
   "source": [
    "class oyun_karakteri():\n",
    "    def __init__(self,isim,power):\n",
    "        self.isim = isim\n",
    "        self.power = power\n",
    "    def bilgileri_goster(self):\n",
    "        print(\"\"\"\n",
    "        İsim = {}\n",
    "        \n",
    "        Power = {}\n",
    "        \"\"\".format(self.isim,self.power))\n",
    "    def power_eksilt(self):\n",
    "        self.power -= 10"
   ]
  },
  {
   "cell_type": "code",
   "execution_count": 29,
   "metadata": {},
   "outputs": [],
   "source": [
    "class asker(oyun_karakteri):\n",
    "    pass"
   ]
  },
  {
   "cell_type": "code",
   "execution_count": 23,
   "metadata": {},
   "outputs": [],
   "source": [
    "asker2 = asker(\"Mehmet\", 100)"
   ]
  },
  {
   "cell_type": "code",
   "execution_count": 21,
   "metadata": {},
   "outputs": [
    {
     "data": {
      "text/plain": [
       "'Mehmet'"
      ]
     },
     "execution_count": 21,
     "metadata": {},
     "output_type": "execute_result"
    }
   ],
   "source": [
    "asker2.isim"
   ]
  },
  {
   "cell_type": "code",
   "execution_count": 22,
   "metadata": {},
   "outputs": [
    {
     "name": "stdout",
     "output_type": "stream",
     "text": [
      "\n",
      "        İsim = Mehmet\n",
      "        \n",
      "        Power = 100\n",
      "        \n"
     ]
    }
   ],
   "source": [
    "asker2.bilgileri_goster()"
   ]
  },
  {
   "cell_type": "code",
   "execution_count": 30,
   "metadata": {},
   "outputs": [],
   "source": [
    "asker3 = asker(\"Mehmet\",100)"
   ]
  },
  {
   "cell_type": "code",
   "execution_count": 31,
   "metadata": {},
   "outputs": [
    {
     "name": "stdout",
     "output_type": "stream",
     "text": [
      "\n",
      "        İsim = Mehmet\n",
      "        \n",
      "        Power = 100\n",
      "        \n"
     ]
    }
   ],
   "source": [
    "asker3.bilgileri_goster()"
   ]
  },
  {
   "cell_type": "code",
   "execution_count": 32,
   "metadata": {},
   "outputs": [],
   "source": [
    "asker3.power_eksilt()"
   ]
  },
  {
   "cell_type": "code",
   "execution_count": 33,
   "metadata": {},
   "outputs": [
    {
     "name": "stdout",
     "output_type": "stream",
     "text": [
      "\n",
      "        İsim = Mehmet\n",
      "        \n",
      "        Power = 90\n",
      "        \n"
     ]
    }
   ],
   "source": [
    "asker3.bilgileri_goster()"
   ]
  },
  {
   "cell_type": "code",
   "execution_count": 34,
   "metadata": {},
   "outputs": [],
   "source": [
    "class kral(oyun_karakteri):\n",
    "    pass"
   ]
  },
  {
   "cell_type": "code",
   "execution_count": 35,
   "metadata": {},
   "outputs": [],
   "source": [
    "class tuccar(oyun_karakteri):\n",
    "    pass"
   ]
  },
  {
   "cell_type": "code",
   "execution_count": 36,
   "metadata": {},
   "outputs": [],
   "source": [
    "class insaatci(oyun_karakteri):\n",
    "    pass"
   ]
  },
  {
   "cell_type": "code",
   "execution_count": 37,
   "metadata": {},
   "outputs": [],
   "source": [
    "kral1 = kral(\"Sezar\", 1000)"
   ]
  },
  {
   "cell_type": "code",
   "execution_count": 38,
   "metadata": {},
   "outputs": [
    {
     "name": "stdout",
     "output_type": "stream",
     "text": [
      "\n",
      "        İsim = Sezar\n",
      "        \n",
      "        Power = 1000\n",
      "        \n"
     ]
    }
   ],
   "source": [
    "kral1.bilgileri_goster()"
   ]
  },
  {
   "cell_type": "code",
   "execution_count": 39,
   "metadata": {},
   "outputs": [],
   "source": [
    "tuccar1 = tuccar(\"Niyazi\", 50)"
   ]
  },
  {
   "cell_type": "code",
   "execution_count": 40,
   "metadata": {},
   "outputs": [
    {
     "name": "stdout",
     "output_type": "stream",
     "text": [
      "\n",
      "        İsim = Niyazi\n",
      "        \n",
      "        Power = 50\n",
      "        \n"
     ]
    }
   ],
   "source": [
    "tuccar1.bilgileri_goster()"
   ]
  },
  {
   "cell_type": "code",
   "execution_count": 41,
   "metadata": {},
   "outputs": [],
   "source": [
    "insaatci1 = insaatci(\"Ahmet\", 80)"
   ]
  },
  {
   "cell_type": "code",
   "execution_count": 42,
   "metadata": {},
   "outputs": [
    {
     "name": "stdout",
     "output_type": "stream",
     "text": [
      "\n",
      "        İsim = Ahmet\n",
      "        \n",
      "        Power = 80\n",
      "        \n"
     ]
    }
   ],
   "source": [
    "insaatci1.bilgileri_goster()"
   ]
  },
  {
   "cell_type": "code",
   "execution_count": null,
   "metadata": {},
   "outputs": [],
   "source": []
  },
  {
   "cell_type": "code",
   "execution_count": null,
   "metadata": {},
   "outputs": [],
   "source": []
  },
  {
   "cell_type": "code",
   "execution_count": null,
   "metadata": {},
   "outputs": [],
   "source": []
  },
  {
   "cell_type": "code",
   "execution_count": null,
   "metadata": {},
   "outputs": [],
   "source": []
  },
  {
   "cell_type": "code",
   "execution_count": null,
   "metadata": {},
   "outputs": [],
   "source": []
  },
  {
   "cell_type": "code",
   "execution_count": null,
   "metadata": {},
   "outputs": [],
   "source": []
  },
  {
   "cell_type": "code",
   "execution_count": null,
   "metadata": {},
   "outputs": [],
   "source": []
  },
  {
   "cell_type": "markdown",
   "metadata": {},
   "source": [
    "# Overriding"
   ]
  },
  {
   "cell_type": "code",
   "execution_count": 43,
   "metadata": {},
   "outputs": [],
   "source": [
    "class oyun_karakteri():\n",
    "    def __init__(self,isim,power):\n",
    "        self.isim = isim\n",
    "        self.power = power\n",
    "    def bilgileri_goster(self):\n",
    "        print(\"\"\"\n",
    "        İsim = {}\n",
    "        \n",
    "        Power = {}\n",
    "        \"\"\".format(self.isim,self.power))\n",
    "    def power_eksilt(self):\n",
    "        self.power -= 10"
   ]
  },
  {
   "cell_type": "code",
   "execution_count": 51,
   "metadata": {},
   "outputs": [],
   "source": [
    "class asker(oyun_karakteri):\n",
    "    def __init__(self,isim,power,asker_sayisi):\n",
    "        self.isim = isim\n",
    "        self.power = power\n",
    "        self.asker_sayisi = asker_sayisi\n",
    "    def bilgileri_goster(self):\n",
    "        print(\"\"\"\n",
    "        İsim = {}\n",
    "        \n",
    "        Power = {}\n",
    "        \n",
    "        Asker Sayısı = {}\n",
    "        \"\"\".format(self.isim,self.power,self.asker_sayisi))\n",
    "    def power_eksilt(self):\n",
    "        self.power -= 50"
   ]
  },
  {
   "cell_type": "code",
   "execution_count": 45,
   "metadata": {},
   "outputs": [],
   "source": [
    "asker4 = asker(\"Mehmet\", 100, 50000)"
   ]
  },
  {
   "cell_type": "code",
   "execution_count": 46,
   "metadata": {},
   "outputs": [
    {
     "data": {
      "text/plain": [
       "50000"
      ]
     },
     "execution_count": 46,
     "metadata": {},
     "output_type": "execute_result"
    }
   ],
   "source": [
    "asker4.asker_sayisi\n"
   ]
  },
  {
   "cell_type": "code",
   "execution_count": 47,
   "metadata": {},
   "outputs": [
    {
     "name": "stdout",
     "output_type": "stream",
     "text": [
      "\n",
      "        İsim = Mehmet\n",
      "        \n",
      "        Power = 100\n",
      "        \n"
     ]
    }
   ],
   "source": [
    "asker4.bilgileri_goster()"
   ]
  },
  {
   "cell_type": "code",
   "execution_count": 49,
   "metadata": {},
   "outputs": [],
   "source": [
    "asker5 = asker(\"Mehmet\", 100, 50000)"
   ]
  },
  {
   "cell_type": "code",
   "execution_count": 50,
   "metadata": {},
   "outputs": [
    {
     "name": "stdout",
     "output_type": "stream",
     "text": [
      "\n",
      "        İsim = Mehmet\n",
      "        \n",
      "        Power = 100\n",
      "        \n",
      "        Asker Sayısı = 50000\n",
      "        \n"
     ]
    }
   ],
   "source": [
    "asker5.bilgileri_goster()"
   ]
  },
  {
   "cell_type": "code",
   "execution_count": 52,
   "metadata": {},
   "outputs": [],
   "source": [
    "asker6 = asker(\"Mehmet\", 100, 50000)"
   ]
  },
  {
   "cell_type": "code",
   "execution_count": 53,
   "metadata": {},
   "outputs": [
    {
     "name": "stdout",
     "output_type": "stream",
     "text": [
      "\n",
      "        İsim = Mehmet\n",
      "        \n",
      "        Power = 100\n",
      "        \n",
      "        Asker Sayısı = 50000\n",
      "        \n"
     ]
    }
   ],
   "source": [
    "asker6.bilgileri_goster()"
   ]
  },
  {
   "cell_type": "code",
   "execution_count": 54,
   "metadata": {},
   "outputs": [],
   "source": [
    "asker6.power_eksilt()"
   ]
  },
  {
   "cell_type": "code",
   "execution_count": 55,
   "metadata": {},
   "outputs": [
    {
     "name": "stdout",
     "output_type": "stream",
     "text": [
      "\n",
      "        İsim = Mehmet\n",
      "        \n",
      "        Power = 50\n",
      "        \n",
      "        Asker Sayısı = 50000\n",
      "        \n"
     ]
    }
   ],
   "source": [
    "asker6.bilgileri_goster()"
   ]
  },
  {
   "cell_type": "code",
   "execution_count": 61,
   "metadata": {},
   "outputs": [],
   "source": [
    "class kral(oyun_karakteri):\n",
    "    def __init__(self,isim,power,ordu_sayisi):\n",
    "        self.isim = isim\n",
    "        self.power = power\n",
    "        self.ordu_sayisi = ordu_sayisi\n",
    "    def bilgileri_goster(self):\n",
    "        print(\"\"\"\n",
    "        İsim = {}\n",
    "        \n",
    "        Power = {}\n",
    "        \n",
    "        Ordu Sayısı = {}\n",
    "        \"\"\".format(self.isim,self.power,self.ordu_sayisi))\n",
    "    \n",
    "    "
   ]
  },
  {
   "cell_type": "code",
   "execution_count": 57,
   "metadata": {},
   "outputs": [],
   "source": [
    "kral2 = kral(\"Sezar\", 1000, 100000)"
   ]
  },
  {
   "cell_type": "code",
   "execution_count": 58,
   "metadata": {},
   "outputs": [
    {
     "data": {
      "text/plain": [
       "100000"
      ]
     },
     "execution_count": 58,
     "metadata": {},
     "output_type": "execute_result"
    }
   ],
   "source": [
    "kral2.ordu_sayisi"
   ]
  },
  {
   "cell_type": "code",
   "execution_count": 59,
   "metadata": {},
   "outputs": [
    {
     "name": "stdout",
     "output_type": "stream",
     "text": [
      "\n",
      "        İsim = Sezar\n",
      "        \n",
      "        Power = 1000\n",
      "        \n"
     ]
    }
   ],
   "source": [
    "kral2.bilgileri_goster()"
   ]
  },
  {
   "cell_type": "code",
   "execution_count": 62,
   "metadata": {},
   "outputs": [],
   "source": [
    "kral3 = kral(\"Sezar\", 1000, 100000)"
   ]
  },
  {
   "cell_type": "code",
   "execution_count": 63,
   "metadata": {},
   "outputs": [
    {
     "name": "stdout",
     "output_type": "stream",
     "text": [
      "\n",
      "        İsim = Sezar\n",
      "        \n",
      "        Power = 1000\n",
      "        \n",
      "        Ordu Sayısı = 100000\n",
      "        \n"
     ]
    }
   ],
   "source": [
    "kral3.bilgileri_goster()"
   ]
  },
  {
   "cell_type": "code",
   "execution_count": 64,
   "metadata": {},
   "outputs": [],
   "source": [
    "class tuccar(oyun_karakteri):\n",
    "    def __init__(self,isim,power,gemi_sayisi):\n",
    "        self.isim = isim\n",
    "        self.power = power\n",
    "        self.gemi_sayisi = gemi_sayisi\n",
    "    def bilgileri_goster(self):\n",
    "        print(\"\"\"\n",
    "        İsim = {}\n",
    "        \n",
    "        Power = {}\n",
    "        \n",
    "        Gemi Sayısı = {}\n",
    "        \"\"\".format(self.isim,self.power,self.gemi_sayisi))"
   ]
  },
  {
   "cell_type": "code",
   "execution_count": 65,
   "metadata": {},
   "outputs": [],
   "source": [
    "tuccar2 = tuccar(\"Niyazi\", 50, 7)"
   ]
  },
  {
   "cell_type": "code",
   "execution_count": 66,
   "metadata": {},
   "outputs": [
    {
     "name": "stdout",
     "output_type": "stream",
     "text": [
      "\n",
      "        İsim = Niyazi\n",
      "        \n",
      "        Power = 50\n",
      "        \n",
      "        Gemi Sayısı = 7\n",
      "        \n"
     ]
    }
   ],
   "source": [
    "tuccar2.bilgileri_goster()"
   ]
  },
  {
   "cell_type": "code",
   "execution_count": 67,
   "metadata": {},
   "outputs": [],
   "source": [
    "class insaatci(oyun_karakteri):\n",
    "    def __init__(self,isim,power,isci_sayisi):\n",
    "        self.isim = isim\n",
    "        self.power = power\n",
    "        self.isci_sayisi = isci_sayisi\n",
    "    def bilgileri_goster(self):\n",
    "        print(\"\"\"\n",
    "        İsim = {}\n",
    "        \n",
    "        Power = {}\n",
    "        \n",
    "        İşçi Sayısı = {}\n",
    "        \"\"\".format(self.isim,self.power,self.isci_sayisi))"
   ]
  },
  {
   "cell_type": "code",
   "execution_count": 68,
   "metadata": {},
   "outputs": [],
   "source": [
    "insaatci2 = insaatci(\"Ahmet\", 80, 150)"
   ]
  },
  {
   "cell_type": "code",
   "execution_count": 69,
   "metadata": {},
   "outputs": [
    {
     "name": "stdout",
     "output_type": "stream",
     "text": [
      "\n",
      "        İsim = Ahmet\n",
      "        \n",
      "        Power = 80\n",
      "        \n",
      "        İşçi Sayısı = 150\n",
      "        \n"
     ]
    }
   ],
   "source": [
    "insaatci2.bilgileri_goster()"
   ]
  },
  {
   "cell_type": "code",
   "execution_count": null,
   "metadata": {},
   "outputs": [],
   "source": []
  },
  {
   "cell_type": "code",
   "execution_count": null,
   "metadata": {},
   "outputs": [],
   "source": []
  },
  {
   "cell_type": "code",
   "execution_count": null,
   "metadata": {},
   "outputs": [],
   "source": []
  },
  {
   "cell_type": "code",
   "execution_count": null,
   "metadata": {},
   "outputs": [],
   "source": []
  },
  {
   "cell_type": "code",
   "execution_count": null,
   "metadata": {},
   "outputs": [],
   "source": []
  },
  {
   "cell_type": "code",
   "execution_count": null,
   "metadata": {},
   "outputs": [],
   "source": []
  },
  {
   "cell_type": "markdown",
   "metadata": {},
   "source": [
    "# super() Anahtar Kelimesi"
   ]
  },
  {
   "cell_type": "code",
   "execution_count": 73,
   "metadata": {},
   "outputs": [],
   "source": [
    "class oyun_karakteri():\n",
    "    def __init__(self,isim,power):\n",
    "        print(\"Oyun Karakteri Class Metodu\")\n",
    "        self.isim = isim\n",
    "        self.power = power\n",
    "    def bilgileri_goster(self):\n",
    "        print(\"\"\"\n",
    "        İsim = {}\n",
    "        \n",
    "        Power = {}\n",
    "        \"\"\".format(self.isim,self.power))\n",
    "    def power_eksilt(self):\n",
    "        self.power -= 10"
   ]
  },
  {
   "cell_type": "code",
   "execution_count": 74,
   "metadata": {},
   "outputs": [],
   "source": [
    "class asker(oyun_karakteri):\n",
    "    def __init__(self,isim,power,asker_sayisi):\n",
    "        super().__init__(isim,power)\n",
    "        \n",
    "        print(\"Asker Class Metodu\")\n",
    "        self.asker_sayisi = asker_sayisi\n",
    "    "
   ]
  },
  {
   "cell_type": "code",
   "execution_count": 76,
   "metadata": {},
   "outputs": [
    {
     "name": "stdout",
     "output_type": "stream",
     "text": [
      "Oyun Karakteri Class Metodu\n",
      "Asker Class Metodu\n"
     ]
    }
   ],
   "source": [
    "asker5 = asker(\"Mehmet\", 100, 50000)"
   ]
  },
  {
   "cell_type": "code",
   "execution_count": 77,
   "metadata": {},
   "outputs": [],
   "source": [
    "class tuccar(oyun_karakteri):\n",
    "    def __init__(self,isim,power,gemi_sayisi):\n",
    "        super().__init__(isim,power)\n",
    "        \n",
    "        print(\"Tüccar Class init Metodu\")\n",
    "        self.gemi_sayisi = gemi_sayisi\n",
    "        "
   ]
  },
  {
   "cell_type": "code",
   "execution_count": 78,
   "metadata": {},
   "outputs": [
    {
     "name": "stdout",
     "output_type": "stream",
     "text": [
      "Oyun Karakteri Class Metodu\n",
      "Tüccar Class init Metodu\n"
     ]
    }
   ],
   "source": [
    "tuccar5 = tuccar(\"Ahmet\", 50, 8)"
   ]
  },
  {
   "cell_type": "code",
   "execution_count": 79,
   "metadata": {},
   "outputs": [],
   "source": [
    "class kral(oyun_karakteri):\n",
    "    def __init__(self,isim,power,ordu_sayisi):\n",
    "        super().__init__(isim,power)\n",
    "        \n",
    "        print(\"Kral Class init Metodu\")\n",
    "        self.ordu_sayisi = ordu_sayisi\n",
    "        "
   ]
  },
  {
   "cell_type": "code",
   "execution_count": 80,
   "metadata": {},
   "outputs": [
    {
     "name": "stdout",
     "output_type": "stream",
     "text": [
      "Oyun Karakteri Class Metodu\n",
      "Kral Class init Metodu\n"
     ]
    }
   ],
   "source": [
    "kral5 = kral(\"Sezar\", 1000, 100000)"
   ]
  },
  {
   "cell_type": "code",
   "execution_count": 81,
   "metadata": {},
   "outputs": [],
   "source": [
    "class insaatci(oyun_karakteri):\n",
    "    def __init__(self,isim,power,isci_sayisi):\n",
    "        super().__init__(isim,power)\n",
    "        \n",
    "        print(\"İnşaatçı Class init Metodu\")\n",
    "        self.isci_sayisi = isci_sayisi"
   ]
  },
  {
   "cell_type": "code",
   "execution_count": 82,
   "metadata": {},
   "outputs": [
    {
     "name": "stdout",
     "output_type": "stream",
     "text": [
      "Oyun Karakteri Class Metodu\n",
      "İnşaatçı Class init Metodu\n"
     ]
    }
   ],
   "source": [
    "insaatci5 = insaatci(\"Niyazi\", 80, 120)"
   ]
  },
  {
   "cell_type": "code",
   "execution_count": null,
   "metadata": {},
   "outputs": [],
   "source": []
  },
  {
   "cell_type": "code",
   "execution_count": null,
   "metadata": {},
   "outputs": [],
   "source": []
  },
  {
   "cell_type": "code",
   "execution_count": null,
   "metadata": {},
   "outputs": [],
   "source": []
  },
  {
   "cell_type": "code",
   "execution_count": null,
   "metadata": {},
   "outputs": [],
   "source": []
  },
  {
   "cell_type": "code",
   "execution_count": null,
   "metadata": {},
   "outputs": [],
   "source": []
  }
 ],
 "metadata": {
  "kernelspec": {
   "display_name": "Python 3",
   "language": "python",
   "name": "python3"
  },
  "language_info": {
   "codemirror_mode": {
    "name": "ipython",
    "version": 3
   },
   "file_extension": ".py",
   "mimetype": "text/x-python",
   "name": "python",
   "nbconvert_exporter": "python",
   "pygments_lexer": "ipython3",
   "version": "3.8.3"
  }
 },
 "nbformat": 4,
 "nbformat_minor": 4
}
