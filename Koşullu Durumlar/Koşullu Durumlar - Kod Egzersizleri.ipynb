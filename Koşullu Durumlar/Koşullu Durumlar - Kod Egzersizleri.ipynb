{
 "cells": [
  {
   "cell_type": "markdown",
   "metadata": {},
   "source": [
    "# Kullanıcıdan, kullanıcı adı ve parola isteyin. Daha sonra kullanıcının kullanıcı adı ve parolasının karakter uzunluğunun toplam 20 karakterden fazla olup-olmadığını denetleyin. 20 karakterden uzun olduğu durumda bir uyarı mesajı verin. Program sonunda elde edeceğiniz çıktı şu şekilde olmalı:"
   ]
  },
  {
   "cell_type": "raw",
   "metadata": {},
   "source": [
    "\"Kullanıcı adı ve parolanızın toplam uzunluğu 20 karakteri geçmemeli!\""
   ]
  },
  {
   "cell_type": "code",
   "execution_count": null,
   "metadata": {},
   "outputs": [],
   "source": []
  },
  {
   "cell_type": "code",
   "execution_count": null,
   "metadata": {},
   "outputs": [],
   "source": []
  },
  {
   "cell_type": "code",
   "execution_count": null,
   "metadata": {},
   "outputs": [],
   "source": []
  },
  {
   "cell_type": "code",
   "execution_count": null,
   "metadata": {},
   "outputs": [],
   "source": []
  },
  {
   "cell_type": "code",
   "execution_count": null,
   "metadata": {},
   "outputs": [],
   "source": []
  },
  {
   "cell_type": "markdown",
   "metadata": {},
   "source": [
    "# Bir kullanıcı giriş paneli hazırlayın. Kullanıcı adı ve parolasının doğru olup-olmadığını denetleyin ve buna göre kullanıcıya yazılı mesajlar verin. Program sonunda şu şekilde bir çıktı elde etmiş olmalısınız:"
   ]
  },
  {
   "cell_type": "raw",
   "metadata": {},
   "source": [
    "Kullanıcı adı ve parola doğru olduğunda:\n",
    "\"Hoşgeldiniz.\"\n",
    "Yanlış olduğunda:\n",
    "\"Lütfen kullanıcı adınızı ya da parolanızı tekrar kontrol ediniz.\""
   ]
  },
  {
   "cell_type": "code",
   "execution_count": null,
   "metadata": {},
   "outputs": [],
   "source": []
  },
  {
   "cell_type": "code",
   "execution_count": null,
   "metadata": {},
   "outputs": [],
   "source": []
  },
  {
   "cell_type": "code",
   "execution_count": null,
   "metadata": {},
   "outputs": [],
   "source": []
  },
  {
   "cell_type": "code",
   "execution_count": null,
   "metadata": {},
   "outputs": [],
   "source": []
  },
  {
   "cell_type": "markdown",
   "metadata": {},
   "source": [
    "# Bir not hesaplayıcı programı yazın. Burada kullanıcıdan ilk ve ikinci vize notlarını ve final notunu girmesini talep edin. Daha sonra kullanıcıya AA, BA, BB vb. gibi notunun harf karşılığını hesaplayıp yazdırın. \n",
    "Vize 1: %30\n",
    "Vize 2: %30\n",
    "Final: %40"
   ]
  },
  {
   "cell_type": "raw",
   "metadata": {},
   "source": [
    "Harf Notu Karşılıkları\n",
    "AA\t90-100\t\n",
    "BA\t85-89\t\n",
    "BB\t80-84\t\n",
    "CB\t75-79\t\n",
    "CC\t70-74\t\n",
    "DC\t65-69\t\n",
    "DD\t60-64\t\n",
    "FD\t50-59\t\n",
    "FF\t0-49"
   ]
  },
  {
   "cell_type": "code",
   "execution_count": null,
   "metadata": {},
   "outputs": [],
   "source": []
  },
  {
   "cell_type": "code",
   "execution_count": null,
   "metadata": {},
   "outputs": [],
   "source": []
  },
  {
   "cell_type": "code",
   "execution_count": null,
   "metadata": {},
   "outputs": [],
   "source": []
  },
  {
   "cell_type": "code",
   "execution_count": null,
   "metadata": {},
   "outputs": [],
   "source": []
  },
  {
   "cell_type": "markdown",
   "metadata": {},
   "source": [
    "# Bir pizzacının fiş hesaplama programını yazın. Kullanıcıya ne tür bir pizza istediğini sorun ve kullanıcının istediği pizza türüne göre ödemesi gereken meblağı kullanıcıya gösterin. Program sonunda elde edeceğiniz çıktı şu şekilde olmalı:"
   ]
  },
  {
   "cell_type": "raw",
   "metadata": {},
   "source": [
    "\"Seçiminiz: Orta Boy\n",
    "Ödemeniz Gereken Miktar: 22 TL\""
   ]
  },
  {
   "cell_type": "raw",
   "metadata": {},
   "source": [
    "Büyük Boy: 30 TL\n",
    "Orta Boy: 22 TL\n",
    "Küçük Boy: 15 TL"
   ]
  },
  {
   "cell_type": "code",
   "execution_count": null,
   "metadata": {},
   "outputs": [],
   "source": []
  },
  {
   "cell_type": "code",
   "execution_count": null,
   "metadata": {},
   "outputs": [],
   "source": []
  },
  {
   "cell_type": "code",
   "execution_count": null,
   "metadata": {},
   "outputs": [],
   "source": []
  },
  {
   "cell_type": "code",
   "execution_count": null,
   "metadata": {},
   "outputs": [],
   "source": []
  },
  {
   "cell_type": "code",
   "execution_count": null,
   "metadata": {},
   "outputs": [],
   "source": []
  },
  {
   "cell_type": "code",
   "execution_count": null,
   "metadata": {},
   "outputs": [],
   "source": []
  },
  {
   "cell_type": "markdown",
   "metadata": {},
   "source": [
    "# Bir AVM'ye ateş ölçer programı yazmalısınız. Kullanıcıya ateşini sorun daha sonra ateşinin derecesine göre AVM'ye girip-giremeyeceğini kullanıcıya belirtin. Program sonunda şöyle bir çıktı elde etmelisiniz:"
   ]
  },
  {
   "cell_type": "raw",
   "metadata": {},
   "source": [
    "\"Ateşiniz 39 derece. AVM'ye Giremezsiniz!\""
   ]
  },
  {
   "cell_type": "code",
   "execution_count": null,
   "metadata": {},
   "outputs": [],
   "source": []
  },
  {
   "cell_type": "code",
   "execution_count": null,
   "metadata": {},
   "outputs": [],
   "source": []
  },
  {
   "cell_type": "code",
   "execution_count": null,
   "metadata": {},
   "outputs": [],
   "source": []
  }
 ],
 "metadata": {
  "kernelspec": {
   "display_name": "Python 3",
   "language": "python",
   "name": "python3"
  },
  "language_info": {
   "codemirror_mode": {
    "name": "ipython",
    "version": 3
   },
   "file_extension": ".py",
   "mimetype": "text/x-python",
   "name": "python",
   "nbconvert_exporter": "python",
   "pygments_lexer": "ipython3",
   "version": "3.8.3"
  }
 },
 "nbformat": 4,
 "nbformat_minor": 4
}
